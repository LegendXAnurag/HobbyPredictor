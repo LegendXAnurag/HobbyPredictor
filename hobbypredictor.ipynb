{
 "cells": [
  {
   "cell_type": "code",
   "execution_count": 1,
   "metadata": {
    "_cell_guid": "b1076dfc-b9ad-4769-8c92-a6c4dae69d19",
    "_uuid": "8f2839f25d086af736a60e9eeb907d3b93b6e0e5",
    "execution": {
     "iopub.execute_input": "2025-01-25T07:14:58.936756Z",
     "iopub.status.busy": "2025-01-25T07:14:58.936569Z",
     "iopub.status.idle": "2025-01-25T07:15:01.296187Z",
     "shell.execute_reply": "2025-01-25T07:15:01.295359Z",
     "shell.execute_reply.started": "2025-01-25T07:14:58.936738Z"
    },
    "trusted": true
   },
   "outputs": [],
   "source": [
    "import pandas as pd\n",
    "import numpy as np\n",
    "from sklearn.model_selection import train_test_split, cross_val_score\n",
    "from sklearn.preprocessing import StandardScaler, OneHotEncoder, LabelEncoder\n",
    "from sklearn.compose import ColumnTransformer\n",
    "from sklearn.pipeline import Pipeline\n",
    "from sklearn.ensemble import RandomForestClassifier\n",
    "from sklearn.linear_model import LogisticRegression\n",
    "from sklearn.tree import DecisionTreeClassifier\n",
    "from sklearn.neighbors import KNeighborsClassifier\n",
    "from sklearn.svm import SVC"
   ]
  },
  {
   "cell_type": "code",
   "execution_count": 2,
   "metadata": {
    "execution": {
     "iopub.execute_input": "2025-01-25T07:15:01.297556Z",
     "iopub.status.busy": "2025-01-25T07:15:01.297080Z",
     "iopub.status.idle": "2025-01-25T07:15:01.349591Z",
     "shell.execute_reply": "2025-01-25T07:15:01.348661Z",
     "shell.execute_reply.started": "2025-01-25T07:15:01.297525Z"
    },
    "trusted": true
   },
   "outputs": [
    {
     "data": {
      "text/html": [
       "<div>\n",
       "<style scoped>\n",
       "    .dataframe tbody tr th:only-of-type {\n",
       "        vertical-align: middle;\n",
       "    }\n",
       "\n",
       "    .dataframe tbody tr th {\n",
       "        vertical-align: top;\n",
       "    }\n",
       "\n",
       "    .dataframe thead th {\n",
       "        text-align: right;\n",
       "    }\n",
       "</style>\n",
       "<table border=\"1\" class=\"dataframe\">\n",
       "  <thead>\n",
       "    <tr style=\"text-align: right;\">\n",
       "      <th></th>\n",
       "      <th>Olympiad_Participation</th>\n",
       "      <th>Scholarship</th>\n",
       "      <th>School</th>\n",
       "      <th>Fav_sub</th>\n",
       "      <th>Projects</th>\n",
       "      <th>Grasp_pow</th>\n",
       "      <th>Time_sprt</th>\n",
       "      <th>Medals</th>\n",
       "      <th>Career_sprt</th>\n",
       "      <th>Act_sprt</th>\n",
       "      <th>Fant_arts</th>\n",
       "      <th>Won_arts</th>\n",
       "      <th>Time_art</th>\n",
       "    </tr>\n",
       "  </thead>\n",
       "  <tbody>\n",
       "    <tr>\n",
       "      <th>0</th>\n",
       "      <td>Yes</td>\n",
       "      <td>No</td>\n",
       "      <td>Yes</td>\n",
       "      <td>Mathematics</td>\n",
       "      <td>No</td>\n",
       "      <td>3</td>\n",
       "      <td>4</td>\n",
       "      <td>No</td>\n",
       "      <td>No</td>\n",
       "      <td>No</td>\n",
       "      <td>No</td>\n",
       "      <td>Maybe</td>\n",
       "      <td>1</td>\n",
       "    </tr>\n",
       "    <tr>\n",
       "      <th>1</th>\n",
       "      <td>No</td>\n",
       "      <td>No</td>\n",
       "      <td>Yes</td>\n",
       "      <td>Mathematics</td>\n",
       "      <td>No</td>\n",
       "      <td>4</td>\n",
       "      <td>3</td>\n",
       "      <td>No</td>\n",
       "      <td>No</td>\n",
       "      <td>Yes</td>\n",
       "      <td>Yes</td>\n",
       "      <td>No</td>\n",
       "      <td>3</td>\n",
       "    </tr>\n",
       "    <tr>\n",
       "      <th>2</th>\n",
       "      <td>Yes</td>\n",
       "      <td>No</td>\n",
       "      <td>Yes</td>\n",
       "      <td>Science</td>\n",
       "      <td>Yes</td>\n",
       "      <td>3</td>\n",
       "      <td>6</td>\n",
       "      <td>Yes</td>\n",
       "      <td>No</td>\n",
       "      <td>Yes</td>\n",
       "      <td>Yes</td>\n",
       "      <td>Yes</td>\n",
       "      <td>3</td>\n",
       "    </tr>\n",
       "    <tr>\n",
       "      <th>3</th>\n",
       "      <td>Yes</td>\n",
       "      <td>Yes</td>\n",
       "      <td>Yes</td>\n",
       "      <td>Mathematics</td>\n",
       "      <td>No</td>\n",
       "      <td>3</td>\n",
       "      <td>3</td>\n",
       "      <td>No</td>\n",
       "      <td>No</td>\n",
       "      <td>No</td>\n",
       "      <td>No</td>\n",
       "      <td>No</td>\n",
       "      <td>3</td>\n",
       "    </tr>\n",
       "    <tr>\n",
       "      <th>4</th>\n",
       "      <td>No</td>\n",
       "      <td>No</td>\n",
       "      <td>No</td>\n",
       "      <td>Any language</td>\n",
       "      <td>No</td>\n",
       "      <td>3</td>\n",
       "      <td>3</td>\n",
       "      <td>No</td>\n",
       "      <td>No</td>\n",
       "      <td>Yes</td>\n",
       "      <td>Yes</td>\n",
       "      <td>Yes</td>\n",
       "      <td>5</td>\n",
       "    </tr>\n",
       "  </tbody>\n",
       "</table>\n",
       "</div>"
      ],
      "text/plain": [
       "  Olympiad_Participation Scholarship School       Fav_sub Projects  Grasp_pow  \\\n",
       "0                    Yes          No    Yes   Mathematics       No          3   \n",
       "1                     No          No    Yes   Mathematics       No          4   \n",
       "2                    Yes          No    Yes       Science      Yes          3   \n",
       "3                    Yes         Yes    Yes   Mathematics       No          3   \n",
       "4                     No          No     No  Any language       No          3   \n",
       "\n",
       "   Time_sprt Medals Career_sprt Act_sprt Fant_arts Won_arts  Time_art  \n",
       "0          4     No          No       No        No    Maybe         1  \n",
       "1          3     No          No      Yes       Yes       No         3  \n",
       "2          6    Yes          No      Yes       Yes      Yes         3  \n",
       "3          3     No          No       No        No       No         3  \n",
       "4          3     No          No      Yes       Yes      Yes         5  "
      ]
     },
     "execution_count": 2,
     "metadata": {},
     "output_type": "execute_result"
    }
   ],
   "source": [
    "data = pd.read_csv(r'training_data.csv')\n",
    "label_encoder = LabelEncoder()\n",
    "data['Predicted Hobby'] = label_encoder.fit_transform(data['Predicted Hobby'])\n",
    "X = data.drop('Predicted Hobby', axis=1)\n",
    "y = data['Predicted Hobby']\n",
    "X.head()"
   ]
  },
  {
   "cell_type": "code",
   "execution_count": 3,
   "metadata": {
    "execution": {
     "iopub.execute_input": "2025-01-25T07:15:01.350738Z",
     "iopub.status.busy": "2025-01-25T07:15:01.350481Z",
     "iopub.status.idle": "2025-01-25T07:15:01.393299Z",
     "shell.execute_reply": "2025-01-25T07:15:01.392388Z",
     "shell.execute_reply.started": "2025-01-25T07:15:01.350717Z"
    },
    "trusted": true
   },
   "outputs": [
    {
     "name": "stderr",
     "output_type": "stream",
     "text": [
      "/usr/local/lib/python3.10/dist-packages/pandas/io/formats/format.py:1458: RuntimeWarning: invalid value encountered in greater\n",
      "  has_large_values = (abs_vals > 1e6).any()\n",
      "/usr/local/lib/python3.10/dist-packages/pandas/io/formats/format.py:1459: RuntimeWarning: invalid value encountered in less\n",
      "  has_small_values = ((abs_vals < 10 ** (-self.digits)) & (abs_vals > 0)).any()\n",
      "/usr/local/lib/python3.10/dist-packages/pandas/io/formats/format.py:1459: RuntimeWarning: invalid value encountered in greater\n",
      "  has_small_values = ((abs_vals < 10 ** (-self.digits)) & (abs_vals > 0)).any()\n"
     ]
    },
    {
     "data": {
      "text/html": [
       "<div>\n",
       "<style scoped>\n",
       "    .dataframe tbody tr th:only-of-type {\n",
       "        vertical-align: middle;\n",
       "    }\n",
       "\n",
       "    .dataframe tbody tr th {\n",
       "        vertical-align: top;\n",
       "    }\n",
       "\n",
       "    .dataframe thead th {\n",
       "        text-align: right;\n",
       "    }\n",
       "</style>\n",
       "<table border=\"1\" class=\"dataframe\">\n",
       "  <thead>\n",
       "    <tr style=\"text-align: right;\">\n",
       "      <th></th>\n",
       "      <th>Olympiad_Participation</th>\n",
       "      <th>Scholarship</th>\n",
       "      <th>School</th>\n",
       "      <th>Fav_sub</th>\n",
       "      <th>Projects</th>\n",
       "      <th>Grasp_pow</th>\n",
       "      <th>Time_sprt</th>\n",
       "      <th>Medals</th>\n",
       "      <th>Career_sprt</th>\n",
       "      <th>Act_sprt</th>\n",
       "      <th>Fant_arts</th>\n",
       "      <th>Won_arts</th>\n",
       "      <th>Time_art</th>\n",
       "    </tr>\n",
       "  </thead>\n",
       "  <tbody>\n",
       "    <tr>\n",
       "      <th>count</th>\n",
       "      <td>1451</td>\n",
       "      <td>1451</td>\n",
       "      <td>1451</td>\n",
       "      <td>1451</td>\n",
       "      <td>1451</td>\n",
       "      <td>1451.000000</td>\n",
       "      <td>1451.000000</td>\n",
       "      <td>1451</td>\n",
       "      <td>1451</td>\n",
       "      <td>1451</td>\n",
       "      <td>1451</td>\n",
       "      <td>1451</td>\n",
       "      <td>1451.000000</td>\n",
       "    </tr>\n",
       "    <tr>\n",
       "      <th>unique</th>\n",
       "      <td>2</td>\n",
       "      <td>2</td>\n",
       "      <td>2</td>\n",
       "      <td>4</td>\n",
       "      <td>2</td>\n",
       "      <td>NaN</td>\n",
       "      <td>NaN</td>\n",
       "      <td>2</td>\n",
       "      <td>2</td>\n",
       "      <td>2</td>\n",
       "      <td>2</td>\n",
       "      <td>3</td>\n",
       "      <td>NaN</td>\n",
       "    </tr>\n",
       "    <tr>\n",
       "      <th>top</th>\n",
       "      <td>Yes</td>\n",
       "      <td>No</td>\n",
       "      <td>Yes</td>\n",
       "      <td>Mathematics</td>\n",
       "      <td>Yes</td>\n",
       "      <td>NaN</td>\n",
       "      <td>NaN</td>\n",
       "      <td>Yes</td>\n",
       "      <td>No</td>\n",
       "      <td>Yes</td>\n",
       "      <td>No</td>\n",
       "      <td>No</td>\n",
       "      <td>NaN</td>\n",
       "    </tr>\n",
       "    <tr>\n",
       "      <th>freq</th>\n",
       "      <td>733</td>\n",
       "      <td>859</td>\n",
       "      <td>1054</td>\n",
       "      <td>632</td>\n",
       "      <td>847</td>\n",
       "      <td>NaN</td>\n",
       "      <td>NaN</td>\n",
       "      <td>768</td>\n",
       "      <td>904</td>\n",
       "      <td>818</td>\n",
       "      <td>822</td>\n",
       "      <td>745</td>\n",
       "      <td>NaN</td>\n",
       "    </tr>\n",
       "    <tr>\n",
       "      <th>mean</th>\n",
       "      <td>NaN</td>\n",
       "      <td>NaN</td>\n",
       "      <td>NaN</td>\n",
       "      <td>NaN</td>\n",
       "      <td>NaN</td>\n",
       "      <td>3.497588</td>\n",
       "      <td>3.048243</td>\n",
       "      <td>NaN</td>\n",
       "      <td>NaN</td>\n",
       "      <td>NaN</td>\n",
       "      <td>NaN</td>\n",
       "      <td>NaN</td>\n",
       "      <td>2.251551</td>\n",
       "    </tr>\n",
       "    <tr>\n",
       "      <th>std</th>\n",
       "      <td>NaN</td>\n",
       "      <td>NaN</td>\n",
       "      <td>NaN</td>\n",
       "      <td>NaN</td>\n",
       "      <td>NaN</td>\n",
       "      <td>0.994031</td>\n",
       "      <td>1.360685</td>\n",
       "      <td>NaN</td>\n",
       "      <td>NaN</td>\n",
       "      <td>NaN</td>\n",
       "      <td>NaN</td>\n",
       "      <td>NaN</td>\n",
       "      <td>1.269044</td>\n",
       "    </tr>\n",
       "    <tr>\n",
       "      <th>min</th>\n",
       "      <td>NaN</td>\n",
       "      <td>NaN</td>\n",
       "      <td>NaN</td>\n",
       "      <td>NaN</td>\n",
       "      <td>NaN</td>\n",
       "      <td>1.000000</td>\n",
       "      <td>1.000000</td>\n",
       "      <td>NaN</td>\n",
       "      <td>NaN</td>\n",
       "      <td>NaN</td>\n",
       "      <td>NaN</td>\n",
       "      <td>NaN</td>\n",
       "      <td>1.000000</td>\n",
       "    </tr>\n",
       "    <tr>\n",
       "      <th>25%</th>\n",
       "      <td>NaN</td>\n",
       "      <td>NaN</td>\n",
       "      <td>NaN</td>\n",
       "      <td>NaN</td>\n",
       "      <td>NaN</td>\n",
       "      <td>3.000000</td>\n",
       "      <td>2.000000</td>\n",
       "      <td>NaN</td>\n",
       "      <td>NaN</td>\n",
       "      <td>NaN</td>\n",
       "      <td>NaN</td>\n",
       "      <td>NaN</td>\n",
       "      <td>1.000000</td>\n",
       "    </tr>\n",
       "    <tr>\n",
       "      <th>50%</th>\n",
       "      <td>NaN</td>\n",
       "      <td>NaN</td>\n",
       "      <td>NaN</td>\n",
       "      <td>NaN</td>\n",
       "      <td>NaN</td>\n",
       "      <td>3.000000</td>\n",
       "      <td>3.000000</td>\n",
       "      <td>NaN</td>\n",
       "      <td>NaN</td>\n",
       "      <td>NaN</td>\n",
       "      <td>NaN</td>\n",
       "      <td>NaN</td>\n",
       "      <td>2.000000</td>\n",
       "    </tr>\n",
       "    <tr>\n",
       "      <th>75%</th>\n",
       "      <td>NaN</td>\n",
       "      <td>NaN</td>\n",
       "      <td>NaN</td>\n",
       "      <td>NaN</td>\n",
       "      <td>NaN</td>\n",
       "      <td>4.000000</td>\n",
       "      <td>4.000000</td>\n",
       "      <td>NaN</td>\n",
       "      <td>NaN</td>\n",
       "      <td>NaN</td>\n",
       "      <td>NaN</td>\n",
       "      <td>NaN</td>\n",
       "      <td>3.000000</td>\n",
       "    </tr>\n",
       "    <tr>\n",
       "      <th>max</th>\n",
       "      <td>NaN</td>\n",
       "      <td>NaN</td>\n",
       "      <td>NaN</td>\n",
       "      <td>NaN</td>\n",
       "      <td>NaN</td>\n",
       "      <td>6.000000</td>\n",
       "      <td>6.000000</td>\n",
       "      <td>NaN</td>\n",
       "      <td>NaN</td>\n",
       "      <td>NaN</td>\n",
       "      <td>NaN</td>\n",
       "      <td>NaN</td>\n",
       "      <td>6.000000</td>\n",
       "    </tr>\n",
       "  </tbody>\n",
       "</table>\n",
       "</div>"
      ],
      "text/plain": [
       "       Olympiad_Participation Scholarship School      Fav_sub Projects  \\\n",
       "count                    1451        1451   1451         1451     1451   \n",
       "unique                      2           2      2            4        2   \n",
       "top                       Yes          No    Yes  Mathematics      Yes   \n",
       "freq                      733         859   1054          632      847   \n",
       "mean                      NaN         NaN    NaN          NaN      NaN   \n",
       "std                       NaN         NaN    NaN          NaN      NaN   \n",
       "min                       NaN         NaN    NaN          NaN      NaN   \n",
       "25%                       NaN         NaN    NaN          NaN      NaN   \n",
       "50%                       NaN         NaN    NaN          NaN      NaN   \n",
       "75%                       NaN         NaN    NaN          NaN      NaN   \n",
       "max                       NaN         NaN    NaN          NaN      NaN   \n",
       "\n",
       "          Grasp_pow    Time_sprt Medals Career_sprt Act_sprt Fant_arts  \\\n",
       "count   1451.000000  1451.000000   1451        1451     1451      1451   \n",
       "unique          NaN          NaN      2           2        2         2   \n",
       "top             NaN          NaN    Yes          No      Yes        No   \n",
       "freq            NaN          NaN    768         904      818       822   \n",
       "mean       3.497588     3.048243    NaN         NaN      NaN       NaN   \n",
       "std        0.994031     1.360685    NaN         NaN      NaN       NaN   \n",
       "min        1.000000     1.000000    NaN         NaN      NaN       NaN   \n",
       "25%        3.000000     2.000000    NaN         NaN      NaN       NaN   \n",
       "50%        3.000000     3.000000    NaN         NaN      NaN       NaN   \n",
       "75%        4.000000     4.000000    NaN         NaN      NaN       NaN   \n",
       "max        6.000000     6.000000    NaN         NaN      NaN       NaN   \n",
       "\n",
       "       Won_arts     Time_art  \n",
       "count      1451  1451.000000  \n",
       "unique        3          NaN  \n",
       "top          No          NaN  \n",
       "freq        745          NaN  \n",
       "mean        NaN     2.251551  \n",
       "std         NaN     1.269044  \n",
       "min         NaN     1.000000  \n",
       "25%         NaN     1.000000  \n",
       "50%         NaN     2.000000  \n",
       "75%         NaN     3.000000  \n",
       "max         NaN     6.000000  "
      ]
     },
     "execution_count": 3,
     "metadata": {},
     "output_type": "execute_result"
    }
   ],
   "source": [
    "X.describe(include='all')"
   ]
  },
  {
   "cell_type": "code",
   "execution_count": 4,
   "metadata": {
    "execution": {
     "iopub.execute_input": "2025-01-25T07:15:01.394455Z",
     "iopub.status.busy": "2025-01-25T07:15:01.394174Z",
     "iopub.status.idle": "2025-01-25T07:15:01.408509Z",
     "shell.execute_reply": "2025-01-25T07:15:01.407693Z",
     "shell.execute_reply.started": "2025-01-25T07:15:01.394433Z"
    },
    "trusted": true
   },
   "outputs": [
    {
     "name": "stdout",
     "output_type": "stream",
     "text": [
      "Olympiad_Participation : 2\n",
      "Scholarship : 2\n",
      "School : 2\n",
      "Fav_sub : 4\n",
      "Projects : 2\n",
      "Medals : 2\n",
      "Career_sprt : 2\n",
      "Act_sprt : 2\n",
      "Fant_arts : 2\n",
      "Won_arts : 3\n"
     ]
    }
   ],
   "source": [
    "for col in X.select_dtypes(include=['category','object']).columns:\n",
    "    print(col,\":\",X[col].nunique())"
   ]
  },
  {
   "cell_type": "code",
   "execution_count": 5,
   "metadata": {
    "execution": {
     "iopub.execute_input": "2025-01-25T07:15:01.409656Z",
     "iopub.status.busy": "2025-01-25T07:15:01.409369Z",
     "iopub.status.idle": "2025-01-25T07:15:01.419425Z",
     "shell.execute_reply": "2025-01-25T07:15:01.418673Z",
     "shell.execute_reply.started": "2025-01-25T07:15:01.409628Z"
    },
    "trusted": true
   },
   "outputs": [
    {
     "name": "stdout",
     "output_type": "stream",
     "text": [
      "['Olympiad_Participation', 'Scholarship', 'School', 'Projects', 'Medals', 'Career_sprt', 'Act_sprt', 'Fant_arts', 'Fav_sub', 'Won_arts']\n",
      "['Grasp_pow', 'Time_sprt', 'Time_art']\n"
     ]
    }
   ],
   "source": [
    "numCol = [col for col in X.select_dtypes(include=['number'])]\n",
    "# labelCol = ['Won_arts']\n",
    "oneCol = [col for col in X.select_dtypes(include=['category','object']) if X[col].nunique() ==2]\n",
    "oneCol = oneCol+['Fav_sub','Won_arts']\n",
    "print(oneCol)\n",
    "print(numCol)"
   ]
  },
  {
   "cell_type": "code",
   "execution_count": 6,
   "metadata": {
    "execution": {
     "iopub.execute_input": "2025-01-25T07:15:01.422256Z",
     "iopub.status.busy": "2025-01-25T07:15:01.421959Z",
     "iopub.status.idle": "2025-01-25T07:15:01.434079Z",
     "shell.execute_reply": "2025-01-25T07:15:01.433136Z",
     "shell.execute_reply.started": "2025-01-25T07:15:01.422229Z"
    },
    "trusted": true
   },
   "outputs": [],
   "source": [
    "preprocessor = ColumnTransformer(\n",
    "    transformers=[\n",
    "        ('numerical', StandardScaler(), numCol),\n",
    "        ('categorical', OneHotEncoder(), oneCol)\n",
    "    ])"
   ]
  },
  {
   "cell_type": "code",
   "execution_count": 7,
   "metadata": {
    "execution": {
     "iopub.execute_input": "2025-01-25T07:15:01.435405Z",
     "iopub.status.busy": "2025-01-25T07:15:01.435175Z",
     "iopub.status.idle": "2025-01-25T07:15:01.449097Z",
     "shell.execute_reply": "2025-01-25T07:15:01.448100Z",
     "shell.execute_reply.started": "2025-01-25T07:15:01.435374Z"
    },
    "trusted": true
   },
   "outputs": [],
   "source": [
    "models = {\n",
    "    'Logistic Regression': LogisticRegression(),\n",
    "    'Decision Tree': DecisionTreeClassifier(),\n",
    "    'Random Forest': RandomForestClassifier(),\n",
    "    'SVM': SVC(),\n",
    "    'K-Nearest Neighbors': KNeighborsClassifier()\n",
    "}"
   ]
  },
  {
   "cell_type": "code",
   "execution_count": 8,
   "metadata": {
    "execution": {
     "iopub.execute_input": "2025-01-25T07:15:01.450325Z",
     "iopub.status.busy": "2025-01-25T07:15:01.450072Z",
     "iopub.status.idle": "2025-01-25T07:15:03.383366Z",
     "shell.execute_reply": "2025-01-25T07:15:03.382653Z",
     "shell.execute_reply.started": "2025-01-25T07:15:01.450296Z"
    },
    "trusted": true
   },
   "outputs": [
    {
     "name": "stdout",
     "output_type": "stream",
     "text": [
      "Logistic Regression Cross-Validation Accuracy: 0.9173\n",
      "Decision Tree Cross-Validation Accuracy: 0.8822\n",
      "Random Forest Cross-Validation Accuracy: 0.9228\n",
      "SVM Cross-Validation Accuracy: 0.9166\n",
      "K-Nearest Neighbors Cross-Validation Accuracy: 0.8925\n"
     ]
    }
   ],
   "source": [
    "results={}\n",
    "for name,model in models.items():\n",
    "    pipe = Pipeline(steps=[('preprocessor',preprocessor),\n",
    "                           ('model',model)])\n",
    "    cv_scores = cross_val_score(pipe, X, y, cv=5, scoring='accuracy')\n",
    "    mean_score = np.mean(cv_scores)\n",
    "    \n",
    "    results[name] = mean_score\n",
    "    print(f\"{name} Cross-Validation Accuracy: {mean_score:.4f}\")"
   ]
  },
  {
   "cell_type": "code",
   "execution_count": 9,
   "metadata": {
    "execution": {
     "iopub.execute_input": "2025-01-25T07:15:03.384262Z",
     "iopub.status.busy": "2025-01-25T07:15:03.384058Z",
     "iopub.status.idle": "2025-01-25T07:15:03.388755Z",
     "shell.execute_reply": "2025-01-25T07:15:03.387944Z",
     "shell.execute_reply.started": "2025-01-25T07:15:03.384244Z"
    },
    "trusted": true
   },
   "outputs": [
    {
     "name": "stdout",
     "output_type": "stream",
     "text": [
      "\n",
      "Best Model: Random Forest\n"
     ]
    }
   ],
   "source": [
    "best_model_name = max(results, key=results.get)\n",
    "best_model = models[best_model_name]\n",
    "print(f\"\\nBest Model: {best_model_name}\")"
   ]
  },
  {
   "cell_type": "code",
   "execution_count": 10,
   "metadata": {
    "execution": {
     "iopub.execute_input": "2025-01-25T07:15:03.389828Z",
     "iopub.status.busy": "2025-01-25T07:15:03.389574Z",
     "iopub.status.idle": "2025-01-25T07:15:03.411234Z",
     "shell.execute_reply": "2025-01-25T07:15:03.410385Z",
     "shell.execute_reply.started": "2025-01-25T07:15:03.389802Z"
    },
    "trusted": true
   },
   "outputs": [],
   "source": [
    "logreg = {\n",
    "    'model__C': [0.01, 0.1, 1, 10, 100],            \n",
    "    'model__penalty': ['l1', 'l2'],                 \n",
    "    'model__solver': ['liblinear', 'saga'],          \n",
    "}\n",
    "dt = {\n",
    "    'model__max_depth': [3, 5, 10, 20, None],       \n",
    "    'model__min_samples_split': [2, 5, 10, 20],    \n",
    "    'model__min_samples_leaf': [1, 2, 5, 10],      \n",
    "    'model__criterion': ['gini', 'entropy'],    \n",
    "}\n",
    "rf = {\n",
    "    'model__n_estimators': [50, 100, 200, 500],         \n",
    "    'model__max_depth': [10, 20, 30, None],             \n",
    "    'model__min_samples_split': [2, 5, 10],             \n",
    "    'model__min_samples_leaf': [1, 2, 4],           \n",
    "    'model__max_features': ['sqrt', 'log2', None],      \n",
    "}\n",
    "svc = {\n",
    "    'model__C': [0.1, 1, 10, 100],                 \n",
    "    'model__kernel': ['linear', 'rbf', 'poly'],    \n",
    "    'model__gamma': ['scale', 'auto', 0.01, 0.1],\n",
    "}\n",
    "knn = {\n",
    "    'model__n_neighbors': [3, 5, 7, 10, 15],        \n",
    "    'model__weights': ['uniform', 'distance'],      \n",
    "    'model__p': [1, 2],                             \n",
    "}"
   ]
  },
  {
   "cell_type": "code",
   "execution_count": 11,
   "metadata": {
    "execution": {
     "iopub.execute_input": "2025-01-25T07:15:03.412518Z",
     "iopub.status.busy": "2025-01-25T07:15:03.412184Z",
     "iopub.status.idle": "2025-01-25T07:15:03.426937Z",
     "shell.execute_reply": "2025-01-25T07:15:03.426080Z",
     "shell.execute_reply.started": "2025-01-25T07:15:03.412487Z"
    },
    "trusted": true
   },
   "outputs": [],
   "source": [
    "if(best_model_name==\"Logistic Regression\"):\n",
    "    param_dist = logreg\n",
    "if(best_model_name==\"Decision Tree\"):\n",
    "    param_dist = dt\n",
    "if(best_model_name==\"Random Forest\"):\n",
    "    param_dist = rf\n",
    "if(best_model_name==\"SVM\"):\n",
    "    param_dist = svc\n",
    "if(best_model_name==\"K-Nearest Neighbors\"):\n",
    "    param_dist = knn"
   ]
  },
  {
   "cell_type": "code",
   "execution_count": 12,
   "metadata": {
    "execution": {
     "iopub.execute_input": "2025-01-25T07:15:03.427921Z",
     "iopub.status.busy": "2025-01-25T07:15:03.427644Z",
     "iopub.status.idle": "2025-01-25T07:15:29.793964Z",
     "shell.execute_reply": "2025-01-25T07:15:29.793110Z",
     "shell.execute_reply.started": "2025-01-25T07:15:03.427899Z"
    },
    "trusted": true
   },
   "outputs": [
    {
     "name": "stdout",
     "output_type": "stream",
     "text": [
      "Fitting 5 folds for each of 10 candidates, totalling 50 fits\n",
      "Best Parameters: {'model__n_estimators': 500, 'model__min_samples_split': 10, 'model__min_samples_leaf': 2, 'model__max_features': 'log2', 'model__max_depth': 30}\n"
     ]
    }
   ],
   "source": [
    "from sklearn.model_selection import RandomizedSearchCV\n",
    "final_pipeline = Pipeline([\n",
    "    ('preprocessor',preprocessor),\n",
    "    ('model', best_model)\n",
    "])\n",
    "random_search = RandomizedSearchCV(final_pipeline, param_dist, n_iter=10, cv=5, scoring='accuracy', verbose=1, random_state=42)\n",
    "random_search.fit(X, y)\n",
    "print(\"Best Parameters:\", random_search.best_params_)\n",
    "best_model = random_search.best_estimator_"
   ]
  },
  {
   "cell_type": "code",
   "execution_count": 13,
   "metadata": {
    "execution": {
     "iopub.execute_input": "2025-01-25T07:15:29.795186Z",
     "iopub.status.busy": "2025-01-25T07:15:29.794867Z",
     "iopub.status.idle": "2025-01-25T07:15:29.813236Z",
     "shell.execute_reply": "2025-01-25T07:15:29.812533Z",
     "shell.execute_reply.started": "2025-01-25T07:15:29.795156Z"
    },
    "trusted": true
   },
   "outputs": [
    {
     "data": {
      "text/html": [
       "<div>\n",
       "<style scoped>\n",
       "    .dataframe tbody tr th:only-of-type {\n",
       "        vertical-align: middle;\n",
       "    }\n",
       "\n",
       "    .dataframe tbody tr th {\n",
       "        vertical-align: top;\n",
       "    }\n",
       "\n",
       "    .dataframe thead th {\n",
       "        text-align: right;\n",
       "    }\n",
       "</style>\n",
       "<table border=\"1\" class=\"dataframe\">\n",
       "  <thead>\n",
       "    <tr style=\"text-align: right;\">\n",
       "      <th></th>\n",
       "      <th>ID</th>\n",
       "      <th>Olympiad_Participation</th>\n",
       "      <th>Scholarship</th>\n",
       "      <th>School</th>\n",
       "      <th>Fav_sub</th>\n",
       "      <th>Projects</th>\n",
       "      <th>Grasp_pow</th>\n",
       "      <th>Time_sprt</th>\n",
       "      <th>Medals</th>\n",
       "      <th>Career_sprt</th>\n",
       "      <th>Act_sprt</th>\n",
       "      <th>Fant_arts</th>\n",
       "      <th>Won_arts</th>\n",
       "      <th>Time_art</th>\n",
       "    </tr>\n",
       "  </thead>\n",
       "  <tbody>\n",
       "    <tr>\n",
       "      <th>0</th>\n",
       "      <td>0</td>\n",
       "      <td>No</td>\n",
       "      <td>No</td>\n",
       "      <td>Yes</td>\n",
       "      <td>Mathematics</td>\n",
       "      <td>No</td>\n",
       "      <td>4</td>\n",
       "      <td>2</td>\n",
       "      <td>No</td>\n",
       "      <td>No</td>\n",
       "      <td>No</td>\n",
       "      <td>Yes</td>\n",
       "      <td>No</td>\n",
       "      <td>2</td>\n",
       "    </tr>\n",
       "    <tr>\n",
       "      <th>1</th>\n",
       "      <td>1</td>\n",
       "      <td>Yes</td>\n",
       "      <td>Yes</td>\n",
       "      <td>Yes</td>\n",
       "      <td>Any language</td>\n",
       "      <td>Yes</td>\n",
       "      <td>2</td>\n",
       "      <td>3</td>\n",
       "      <td>Yes</td>\n",
       "      <td>No</td>\n",
       "      <td>No</td>\n",
       "      <td>No</td>\n",
       "      <td>No</td>\n",
       "      <td>2</td>\n",
       "    </tr>\n",
       "    <tr>\n",
       "      <th>2</th>\n",
       "      <td>2</td>\n",
       "      <td>Yes</td>\n",
       "      <td>Yes</td>\n",
       "      <td>Yes</td>\n",
       "      <td>Science</td>\n",
       "      <td>Yes</td>\n",
       "      <td>5</td>\n",
       "      <td>2</td>\n",
       "      <td>Yes</td>\n",
       "      <td>No</td>\n",
       "      <td>No</td>\n",
       "      <td>No</td>\n",
       "      <td>No</td>\n",
       "      <td>1</td>\n",
       "    </tr>\n",
       "    <tr>\n",
       "      <th>3</th>\n",
       "      <td>3</td>\n",
       "      <td>Yes</td>\n",
       "      <td>Yes</td>\n",
       "      <td>Yes</td>\n",
       "      <td>Science</td>\n",
       "      <td>Yes</td>\n",
       "      <td>3</td>\n",
       "      <td>3</td>\n",
       "      <td>No</td>\n",
       "      <td>No</td>\n",
       "      <td>No</td>\n",
       "      <td>Yes</td>\n",
       "      <td>Maybe</td>\n",
       "      <td>1</td>\n",
       "    </tr>\n",
       "    <tr>\n",
       "      <th>4</th>\n",
       "      <td>4</td>\n",
       "      <td>No</td>\n",
       "      <td>No</td>\n",
       "      <td>No</td>\n",
       "      <td>Mathematics</td>\n",
       "      <td>No</td>\n",
       "      <td>3</td>\n",
       "      <td>4</td>\n",
       "      <td>No</td>\n",
       "      <td>No</td>\n",
       "      <td>No</td>\n",
       "      <td>Yes</td>\n",
       "      <td>Yes</td>\n",
       "      <td>6</td>\n",
       "    </tr>\n",
       "  </tbody>\n",
       "</table>\n",
       "</div>"
      ],
      "text/plain": [
       "   ID Olympiad_Participation Scholarship School       Fav_sub Projects  \\\n",
       "0   0                     No          No    Yes   Mathematics       No   \n",
       "1   1                    Yes         Yes    Yes  Any language      Yes   \n",
       "2   2                    Yes         Yes    Yes       Science      Yes   \n",
       "3   3                    Yes         Yes    Yes       Science      Yes   \n",
       "4   4                     No          No     No   Mathematics       No   \n",
       "\n",
       "   Grasp_pow  Time_sprt Medals Career_sprt Act_sprt Fant_arts Won_arts  \\\n",
       "0          4          2     No          No       No       Yes       No   \n",
       "1          2          3    Yes          No       No        No       No   \n",
       "2          5          2    Yes          No       No        No       No   \n",
       "3          3          3     No          No       No       Yes    Maybe   \n",
       "4          3          4     No          No       No       Yes      Yes   \n",
       "\n",
       "   Time_art  \n",
       "0         2  \n",
       "1         2  \n",
       "2         1  \n",
       "3         1  \n",
       "4         6  "
      ]
     },
     "execution_count": 13,
     "metadata": {},
     "output_type": "execute_result"
    }
   ],
   "source": [
    "testdata = pd.read_csv(r'test_data.csv')\n",
    "testdata.head()"
   ]
  },
  {
   "cell_type": "code",
   "execution_count": 14,
   "metadata": {
    "execution": {
     "iopub.execute_input": "2025-01-25T07:15:29.814280Z",
     "iopub.status.busy": "2025-01-25T07:15:29.813974Z",
     "iopub.status.idle": "2025-01-25T07:15:29.866332Z",
     "shell.execute_reply": "2025-01-25T07:15:29.865746Z",
     "shell.execute_reply.started": "2025-01-25T07:15:29.814251Z"
    },
    "trusted": true
   },
   "outputs": [
    {
     "name": "stdout",
     "output_type": "stream",
     "text": [
      "CSV file with predictions saved as 'predicted_hobbies.csv'\n"
     ]
    }
   ],
   "source": [
    "X_test = testdata.drop(columns=['ID'])\n",
    "y_pred = best_model.predict(X_test)\n",
    "predictions_df = pd.DataFrame({'ID': testdata['ID'], 'Predicted_Hobby': label_encoder.inverse_transform(y_pred)})\n",
    "predictions_df.to_csv('predicted_hobbies.csv', index=False)\n",
    "print(\"CSV file with predictions saved as 'predicted_hobbies.csv'\")"
   ]
  },
  {
   "cell_type": "code",
   "execution_count": 15,
   "metadata": {
    "execution": {
     "iopub.execute_input": "2025-01-25T07:15:29.867494Z",
     "iopub.status.busy": "2025-01-25T07:15:29.867180Z",
     "iopub.status.idle": "2025-01-25T07:15:29.873468Z",
     "shell.execute_reply": "2025-01-25T07:15:29.872708Z",
     "shell.execute_reply.started": "2025-01-25T07:15:29.867463Z"
    },
    "trusted": true
   },
   "outputs": [
    {
     "data": {
      "text/plain": [
       "['hobby_predictor_pipeline.pkl']"
      ]
     },
     "execution_count": 15,
     "metadata": {},
     "output_type": "execute_result"
    }
   ],
   "source": [
    "import joblib\n",
    "joblib.dump(final_pipeline, 'hobby_predictor_pipeline.pkl')"
   ]
  }
 ],
 "metadata": {
  "kaggle": {
   "accelerator": "gpu",
   "dataSources": [
    {
     "datasetId": 6509595,
     "sourceId": 10516640,
     "sourceType": "datasetVersion"
    },
    {
     "datasetId": 6544373,
     "sourceId": 10575545,
     "sourceType": "datasetVersion"
    }
   ],
   "dockerImageVersionId": 30840,
   "isGpuEnabled": true,
   "isInternetEnabled": true,
   "language": "python",
   "sourceType": "notebook"
  },
  "kernelspec": {
   "display_name": "Python 3",
   "language": "python",
   "name": "python3"
  },
  "language_info": {
   "codemirror_mode": {
    "name": "ipython",
    "version": 3
   },
   "file_extension": ".py",
   "mimetype": "text/x-python",
   "name": "python",
   "nbconvert_exporter": "python",
   "pygments_lexer": "ipython3",
   "version": "3.10.12"
  }
 },
 "nbformat": 4,
 "nbformat_minor": 4
}
